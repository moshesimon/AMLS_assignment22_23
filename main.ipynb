{
 "cells": [
  {
   "cell_type": "code",
   "execution_count": 2,
   "metadata": {},
   "outputs": [],
   "source": [
    "from process_data import * # import all functions from process_data.py\n",
    "from A1.a1 import A1\n",
    "from A2.a2 import A2\n",
    "# PATH TO ALL IMAGES\n",
    "\n",
    "\n",
    "basedir = os.path.abspath('')\n",
    "dataset_dir = os.path.join(basedir,'Datasets')\n",
    "celeba_images_dir = os.path.join(dataset_dir,'celeba', 'img')\n",
    "celeba_test_images_dir = os.path.join(dataset_dir,'celeba_test', 'img')\n",
    "cartoon_images_dir = os.path.join(dataset_dir,'cartoon_set', 'img')\n",
    "cartoon_test_images_dir = os.path.join(dataset_dir,'cartoon_set_test', 'img')\n",
    "celeba_labels_dir = os.path.join(dataset_dir,'celeba', 'labels.csv')\n",
    "celeba_test_labels_dir = os.path.join(dataset_dir,'celeba_test', 'labels.csv')\n",
    "cartoon_labels_dir = os.path.join(dataset_dir,'cartoon_set', 'labels.csv')\n",
    "cartoon_test_labels_dir = os.path.join(dataset_dir,'cartoon_set_test', 'labels.csv')\n",
    "\n",
    "run_a1 = True\n",
    "run_a2 = True\n",
    "run_b1 = True\n",
    "run_b2 = True\n"
   ]
  },
  {
   "cell_type": "code",
   "execution_count": 3,
   "metadata": {},
   "outputs": [],
   "source": [
    "if run_a1 or run_a2:\n",
    "    train_celeb_images = load_images(images_dir=celeba_images_dir,file_type='jpg', num_imgs=5000) # load images\n",
    "    test_celeb_images = load_images(images_dir=celeba_test_images_dir,file_type='jpg', num_imgs=1000) # load images\n",
    "\n",
    "    train_gender_celeb_labels = load_labels(label_dir=celeba_labels_dir, label_col_name='gender')\n",
    "    test_gender_celeb_labels = load_labels(label_dir=celeba_test_labels_dir, label_col_name='gender')\n",
    "\n",
    "    train_smiling_celeb_labels = load_labels(label_dir=celeba_labels_dir, label_col_name='smiling')\n",
    "    test_smiling_celeb_labels = load_labels(label_dir=celeba_test_labels_dir, label_col_name='smiling')\n",
    "\n",
    "    train_celeb_features, train_gender_labels, train_smiling_labels = extract_features_labels(train_celeb_images, train_gender_celeb_labels, train_smiling_celeb_labels) # extract features and labels\n",
    "    test_celeb_features, test_gender_labels, test_smiling_labels = extract_features_labels(test_celeb_images, test_gender_celeb_labels, test_smiling_celeb_labels) # extract features and labels\n"
   ]
  },
  {
   "cell_type": "code",
   "execution_count": 4,
   "metadata": {},
   "outputs": [
    {
     "ename": "KeyboardInterrupt",
     "evalue": "",
     "output_type": "error",
     "traceback": [
      "\u001b[1;31m---------------------------------------------------------------------------\u001b[0m",
      "\u001b[1;31mKeyboardInterrupt\u001b[0m                         Traceback (most recent call last)",
      "Cell \u001b[1;32mIn[4], line 11\u001b[0m\n\u001b[0;32m      8\u001b[0m train_face_shape_cartoon_labels \u001b[39m=\u001b[39m load_labels(label_dir\u001b[39m=\u001b[39mcartoon_labels_dir, label_col_name\u001b[39m=\u001b[39m\u001b[39m'\u001b[39m\u001b[39mface_shape\u001b[39m\u001b[39m'\u001b[39m)\n\u001b[0;32m      9\u001b[0m test_face_shape_cartoon_labels \u001b[39m=\u001b[39m load_labels(label_dir\u001b[39m=\u001b[39mcartoon_test_labels_dir, label_col_name\u001b[39m=\u001b[39m\u001b[39m'\u001b[39m\u001b[39mface_shape\u001b[39m\u001b[39m'\u001b[39m)\n\u001b[1;32m---> 11\u001b[0m train_cartoon_features, train_eye_color_labels, train_face_shape_labels \u001b[39m=\u001b[39m extract_features_labels(train_cartoon_images, train_eye_color_cartoon_labels, train_face_shape_cartoon_labels) \u001b[39m# extract features and labels\u001b[39;00m\n\u001b[0;32m     12\u001b[0m test_cartoon_features, test_eye_color_labels, test_face_shape_labels \u001b[39m=\u001b[39m extract_features_labels(test_cartoon_images, test_eye_color_cartoon_labels, test_face_shape_cartoon_labels) \u001b[39m# extract features and labels\u001b[39;00m\n",
      "File \u001b[1;32mc:\\Users\\moshe\\OneDrive - University College London\\FORTH YEAR\\ELEC0134 - Applied Machine Learning Systems I\\Assessment\\AMLS_assignment22_23\\process_data.py:125\u001b[0m, in \u001b[0;36mextract_features_labels\u001b[1;34m(images, gender_labels, smiling_labels)\u001b[0m\n\u001b[0;32m    122\u001b[0m all_features \u001b[39m=\u001b[39m []\n\u001b[0;32m    124\u001b[0m \u001b[39mfor\u001b[39;00m i, img \u001b[39min\u001b[39;00m \u001b[39menumerate\u001b[39m(images):\n\u001b[1;32m--> 125\u001b[0m     features \u001b[39m=\u001b[39m run_dlib_shape(img)\n\u001b[0;32m    126\u001b[0m     \u001b[39mif\u001b[39;00m features \u001b[39mis\u001b[39;00m \u001b[39mnot\u001b[39;00m \u001b[39mNone\u001b[39;00m:\n\u001b[0;32m    127\u001b[0m         all_features\u001b[39m.\u001b[39mappend(features)\n",
      "File \u001b[1;32mc:\\Users\\moshe\\OneDrive - University College London\\FORTH YEAR\\ELEC0134 - Applied Machine Learning Systems I\\Assessment\\AMLS_assignment22_23\\process_data.py:58\u001b[0m, in \u001b[0;36mrun_dlib_shape\u001b[1;34m(image)\u001b[0m\n\u001b[0;32m     54\u001b[0m \u001b[39mdef\u001b[39;00m \u001b[39mrun_dlib_shape\u001b[39m(image):\n\u001b[0;32m     55\u001b[0m     \u001b[39m# in this function we load the image, detect the landmarks of the face, and then return the image and the landmarks\u001b[39;00m\n\u001b[0;32m     56\u001b[0m     \n\u001b[0;32m     57\u001b[0m     \u001b[39m# detect faces in the grayscale image\u001b[39;00m\n\u001b[1;32m---> 58\u001b[0m     rects \u001b[39m=\u001b[39m detector(image, \u001b[39m1\u001b[39;49m)\n\u001b[0;32m     59\u001b[0m     num_faces \u001b[39m=\u001b[39m \u001b[39mlen\u001b[39m(rects)\n\u001b[0;32m     61\u001b[0m     \u001b[39mif\u001b[39;00m num_faces \u001b[39m==\u001b[39m \u001b[39m0\u001b[39m:\n",
      "\u001b[1;31mKeyboardInterrupt\u001b[0m: "
     ]
    }
   ],
   "source": [
    "\n",
    "if run_b1 or run_b2:\n",
    "    train_cartoon_images = load_images(images_dir=cartoon_images_dir,file_type='png', num_imgs=10000) # load images\n",
    "    test_cartoon_images = load_images(images_dir=cartoon_test_images_dir,file_type='png', num_imgs=2500) # load images\n",
    "\n",
    "    train_eye_color_cartoon_labels = load_labels(label_dir=cartoon_labels_dir, label_col_name='eye_color')\n",
    "    test_eye_color_cartoon_labels = load_labels(label_dir=cartoon_test_labels_dir, label_col_name='eye_color')\n",
    "\n",
    "    train_face_shape_cartoon_labels = load_labels(label_dir=cartoon_labels_dir, label_col_name='face_shape')\n",
    "    test_face_shape_cartoon_labels = load_labels(label_dir=cartoon_test_labels_dir, label_col_name='face_shape')\n",
    "\n",
    "    train_cartoon_features, train_eye_color_labels, train_face_shape_labels = extract_features_labels(train_cartoon_images, train_eye_color_cartoon_labels, train_face_shape_cartoon_labels) # extract features and labels\n",
    "    test_cartoon_features, test_eye_color_labels, test_face_shape_labels = extract_features_labels(test_cartoon_images, test_eye_color_cartoon_labels, test_face_shape_cartoon_labels) # extract features and labels"
   ]
  },
  {
   "cell_type": "code",
   "execution_count": 13,
   "metadata": {},
   "outputs": [
    {
     "name": "stdout",
     "output_type": "stream",
     "text": [
      "[[222 222 222 ... 226 234 235]\n",
      " [222 222 222 ... 228 234 235]\n",
      " [222 222 222 ... 230 235 236]\n",
      " ...\n",
      " [ 67  42  72 ...  54  55  55]\n",
      " [ 55  63  92 ...  48  50  50]\n",
      " [ 93 129 171 ...  48  50  50]]\n"
     ]
    }
   ],
   "source": [
    "print(train_celeb_images[0])\n",
    "x = np.reshape(train_celeb_images,(5000,218*178))\n"
   ]
  },
  {
   "cell_type": "code",
   "execution_count": 14,
   "metadata": {},
   "outputs": [
    {
     "name": "stdout",
     "output_type": "stream",
     "text": [
      "[222 222 222 ...  48  50  50]\n"
     ]
    }
   ],
   "source": [
    "print(x[0])"
   ]
  },
  {
   "cell_type": "code",
   "execution_count": 15,
   "metadata": {},
   "outputs": [
    {
     "ename": "ValueError",
     "evalue": "Found array with dim 3. SVC expected <= 2.",
     "output_type": "error",
     "traceback": [
      "\u001b[1;31m---------------------------------------------------------------------------\u001b[0m",
      "\u001b[1;31mValueError\u001b[0m                                Traceback (most recent call last)",
      "Cell \u001b[1;32mIn[15], line 5\u001b[0m\n\u001b[0;32m      3\u001b[0m classifier \u001b[39m=\u001b[39m SVC(kernel\u001b[39m=\u001b[39m\u001b[39m'\u001b[39m\u001b[39mlinear\u001b[39m\u001b[39m'\u001b[39m)\n\u001b[0;32m      4\u001b[0m classifier\u001b[39m.\u001b[39mfit(np\u001b[39m.\u001b[39mreshape(train_celeb_images,(\u001b[39m5000\u001b[39m,\u001b[39m218\u001b[39m\u001b[39m*\u001b[39m\u001b[39m178\u001b[39m)),train_gender_celeb_labels)\n\u001b[1;32m----> 5\u001b[0m predictions \u001b[39m=\u001b[39m classifier\u001b[39m.\u001b[39;49mpredict(test_celeb_images)\n\u001b[0;32m      6\u001b[0m score \u001b[39m=\u001b[39m accuracy_score(test_gender_celeb_labels)\n",
      "File \u001b[1;32mc:\\Users\\moshe\\anaconda3\\envs\\AML\\lib\\site-packages\\sklearn\\svm\\_base.py:820\u001b[0m, in \u001b[0;36mBaseSVC.predict\u001b[1;34m(self, X)\u001b[0m\n\u001b[0;32m    818\u001b[0m     y \u001b[39m=\u001b[39m np\u001b[39m.\u001b[39margmax(\u001b[39mself\u001b[39m\u001b[39m.\u001b[39mdecision_function(X), axis\u001b[39m=\u001b[39m\u001b[39m1\u001b[39m)\n\u001b[0;32m    819\u001b[0m \u001b[39melse\u001b[39;00m:\n\u001b[1;32m--> 820\u001b[0m     y \u001b[39m=\u001b[39m \u001b[39msuper\u001b[39;49m()\u001b[39m.\u001b[39;49mpredict(X)\n\u001b[0;32m    821\u001b[0m \u001b[39mreturn\u001b[39;00m \u001b[39mself\u001b[39m\u001b[39m.\u001b[39mclasses_\u001b[39m.\u001b[39mtake(np\u001b[39m.\u001b[39masarray(y, dtype\u001b[39m=\u001b[39mnp\u001b[39m.\u001b[39mintp))\n",
      "File \u001b[1;32mc:\\Users\\moshe\\anaconda3\\envs\\AML\\lib\\site-packages\\sklearn\\svm\\_base.py:433\u001b[0m, in \u001b[0;36mBaseLibSVM.predict\u001b[1;34m(self, X)\u001b[0m\n\u001b[0;32m    417\u001b[0m \u001b[39mdef\u001b[39;00m \u001b[39mpredict\u001b[39m(\u001b[39mself\u001b[39m, X):\n\u001b[0;32m    418\u001b[0m \u001b[39m    \u001b[39m\u001b[39m\"\"\"Perform regression on samples in X.\u001b[39;00m\n\u001b[0;32m    419\u001b[0m \n\u001b[0;32m    420\u001b[0m \u001b[39m    For an one-class model, +1 (inlier) or -1 (outlier) is returned.\u001b[39;00m\n\u001b[1;32m   (...)\u001b[0m\n\u001b[0;32m    431\u001b[0m \u001b[39m        The predicted values.\u001b[39;00m\n\u001b[0;32m    432\u001b[0m \u001b[39m    \"\"\"\u001b[39;00m\n\u001b[1;32m--> 433\u001b[0m     X \u001b[39m=\u001b[39m \u001b[39mself\u001b[39;49m\u001b[39m.\u001b[39;49m_validate_for_predict(X)\n\u001b[0;32m    434\u001b[0m     predict \u001b[39m=\u001b[39m \u001b[39mself\u001b[39m\u001b[39m.\u001b[39m_sparse_predict \u001b[39mif\u001b[39;00m \u001b[39mself\u001b[39m\u001b[39m.\u001b[39m_sparse \u001b[39melse\u001b[39;00m \u001b[39mself\u001b[39m\u001b[39m.\u001b[39m_dense_predict\n\u001b[0;32m    435\u001b[0m     \u001b[39mreturn\u001b[39;00m predict(X)\n",
      "File \u001b[1;32mc:\\Users\\moshe\\anaconda3\\envs\\AML\\lib\\site-packages\\sklearn\\svm\\_base.py:613\u001b[0m, in \u001b[0;36mBaseLibSVM._validate_for_predict\u001b[1;34m(self, X)\u001b[0m\n\u001b[0;32m    610\u001b[0m check_is_fitted(\u001b[39mself\u001b[39m)\n\u001b[0;32m    612\u001b[0m \u001b[39mif\u001b[39;00m \u001b[39mnot\u001b[39;00m callable(\u001b[39mself\u001b[39m\u001b[39m.\u001b[39mkernel):\n\u001b[1;32m--> 613\u001b[0m     X \u001b[39m=\u001b[39m \u001b[39mself\u001b[39;49m\u001b[39m.\u001b[39;49m_validate_data(\n\u001b[0;32m    614\u001b[0m         X,\n\u001b[0;32m    615\u001b[0m         accept_sparse\u001b[39m=\u001b[39;49m\u001b[39m\"\u001b[39;49m\u001b[39mcsr\u001b[39;49m\u001b[39m\"\u001b[39;49m,\n\u001b[0;32m    616\u001b[0m         dtype\u001b[39m=\u001b[39;49mnp\u001b[39m.\u001b[39;49mfloat64,\n\u001b[0;32m    617\u001b[0m         order\u001b[39m=\u001b[39;49m\u001b[39m\"\u001b[39;49m\u001b[39mC\u001b[39;49m\u001b[39m\"\u001b[39;49m,\n\u001b[0;32m    618\u001b[0m         accept_large_sparse\u001b[39m=\u001b[39;49m\u001b[39mFalse\u001b[39;49;00m,\n\u001b[0;32m    619\u001b[0m         reset\u001b[39m=\u001b[39;49m\u001b[39mFalse\u001b[39;49;00m,\n\u001b[0;32m    620\u001b[0m     )\n\u001b[0;32m    622\u001b[0m \u001b[39mif\u001b[39;00m \u001b[39mself\u001b[39m\u001b[39m.\u001b[39m_sparse \u001b[39mand\u001b[39;00m \u001b[39mnot\u001b[39;00m sp\u001b[39m.\u001b[39misspmatrix(X):\n\u001b[0;32m    623\u001b[0m     X \u001b[39m=\u001b[39m sp\u001b[39m.\u001b[39mcsr_matrix(X)\n",
      "File \u001b[1;32mc:\\Users\\moshe\\anaconda3\\envs\\AML\\lib\\site-packages\\sklearn\\base.py:535\u001b[0m, in \u001b[0;36mBaseEstimator._validate_data\u001b[1;34m(self, X, y, reset, validate_separately, **check_params)\u001b[0m\n\u001b[0;32m    533\u001b[0m     \u001b[39mraise\u001b[39;00m \u001b[39mValueError\u001b[39;00m(\u001b[39m\"\u001b[39m\u001b[39mValidation should be done on X, y or both.\u001b[39m\u001b[39m\"\u001b[39m)\n\u001b[0;32m    534\u001b[0m \u001b[39melif\u001b[39;00m \u001b[39mnot\u001b[39;00m no_val_X \u001b[39mand\u001b[39;00m no_val_y:\n\u001b[1;32m--> 535\u001b[0m     X \u001b[39m=\u001b[39m check_array(X, input_name\u001b[39m=\u001b[39m\u001b[39m\"\u001b[39m\u001b[39mX\u001b[39m\u001b[39m\"\u001b[39m, \u001b[39m*\u001b[39m\u001b[39m*\u001b[39mcheck_params)\n\u001b[0;32m    536\u001b[0m     out \u001b[39m=\u001b[39m X\n\u001b[0;32m    537\u001b[0m \u001b[39melif\u001b[39;00m no_val_X \u001b[39mand\u001b[39;00m \u001b[39mnot\u001b[39;00m no_val_y:\n",
      "File \u001b[1;32mc:\\Users\\moshe\\anaconda3\\envs\\AML\\lib\\site-packages\\sklearn\\utils\\validation.py:913\u001b[0m, in \u001b[0;36mcheck_array\u001b[1;34m(array, accept_sparse, accept_large_sparse, dtype, order, copy, force_all_finite, ensure_2d, allow_nd, ensure_min_samples, ensure_min_features, estimator, input_name)\u001b[0m\n\u001b[0;32m    908\u001b[0m     \u001b[39mraise\u001b[39;00m \u001b[39mValueError\u001b[39;00m(\n\u001b[0;32m    909\u001b[0m         \u001b[39m\"\u001b[39m\u001b[39mdtype=\u001b[39m\u001b[39m'\u001b[39m\u001b[39mnumeric\u001b[39m\u001b[39m'\u001b[39m\u001b[39m is not compatible with arrays of bytes/strings.\u001b[39m\u001b[39m\"\u001b[39m\n\u001b[0;32m    910\u001b[0m         \u001b[39m\"\u001b[39m\u001b[39mConvert your data to numeric values explicitly instead.\u001b[39m\u001b[39m\"\u001b[39m\n\u001b[0;32m    911\u001b[0m     )\n\u001b[0;32m    912\u001b[0m \u001b[39mif\u001b[39;00m \u001b[39mnot\u001b[39;00m allow_nd \u001b[39mand\u001b[39;00m array\u001b[39m.\u001b[39mndim \u001b[39m>\u001b[39m\u001b[39m=\u001b[39m \u001b[39m3\u001b[39m:\n\u001b[1;32m--> 913\u001b[0m     \u001b[39mraise\u001b[39;00m \u001b[39mValueError\u001b[39;00m(\n\u001b[0;32m    914\u001b[0m         \u001b[39m\"\u001b[39m\u001b[39mFound array with dim \u001b[39m\u001b[39m%d\u001b[39;00m\u001b[39m. \u001b[39m\u001b[39m%s\u001b[39;00m\u001b[39m expected <= 2.\u001b[39m\u001b[39m\"\u001b[39m\n\u001b[0;32m    915\u001b[0m         \u001b[39m%\u001b[39m (array\u001b[39m.\u001b[39mndim, estimator_name)\n\u001b[0;32m    916\u001b[0m     )\n\u001b[0;32m    918\u001b[0m \u001b[39mif\u001b[39;00m force_all_finite:\n\u001b[0;32m    919\u001b[0m     _assert_all_finite(\n\u001b[0;32m    920\u001b[0m         array,\n\u001b[0;32m    921\u001b[0m         input_name\u001b[39m=\u001b[39minput_name,\n\u001b[0;32m    922\u001b[0m         estimator_name\u001b[39m=\u001b[39mestimator_name,\n\u001b[0;32m    923\u001b[0m         allow_nan\u001b[39m=\u001b[39mforce_all_finite \u001b[39m==\u001b[39m \u001b[39m\"\u001b[39m\u001b[39mallow-nan\u001b[39m\u001b[39m\"\u001b[39m,\n\u001b[0;32m    924\u001b[0m     )\n",
      "\u001b[1;31mValueError\u001b[0m: Found array with dim 3. SVC expected <= 2."
     ]
    }
   ],
   "source": [
    "from sklearn.svm import SVC\n",
    "from sklearn.metrics import accuracy_score\n",
    "SVC_classifier = SVC(kernel='linear')\n",
    "SVC_classifier.fit(np.reshape(train_celeb_images,(5000,218*178)),train_gender_celeb_labels)\n",
    "SVC_predictions = SVC_classifier.predict(np.reshape(test_celeb_images,(1000,218*178)))\n",
    "score = accuracy_score(SVC_predictions,test_gender_celeb_labels)\n",
    "print(score)"
   ]
  },
  {
   "cell_type": "code",
   "execution_count": null,
   "metadata": {},
   "outputs": [],
   "source": [
    "from sklearn.linear_model import LogisticRegression\n",
    "from sklearn.metrics import accuracy_score\n",
    "LR_classifier = LogisticRegression()\n",
    "LR_classifier.fit(np.reshape(train_celeb_images,(5000,218*178)),train_gender_celeb_labels)\n",
    "LR_predictions = LR_classifier.predict(np.reshape(test_celeb_images,(1000,218*178)))\n",
    "score = accuracy_score(LR_predictions,test_gender_celeb_labels)\n",
    "print(score)"
   ]
  }
 ],
 "metadata": {
  "kernelspec": {
   "display_name": "AML",
   "language": "python",
   "name": "python3"
  },
  "language_info": {
   "codemirror_mode": {
    "name": "ipython",
    "version": 3
   },
   "file_extension": ".py",
   "mimetype": "text/x-python",
   "name": "python",
   "nbconvert_exporter": "python",
   "pygments_lexer": "ipython3",
   "version": "3.9.15"
  },
  "orig_nbformat": 4,
  "vscode": {
   "interpreter": {
    "hash": "2e69689cd1625636f0c1dfd315897165b04a4e2851d2ac68933d3dd1db0adbc4"
   }
  }
 },
 "nbformat": 4,
 "nbformat_minor": 2
}
