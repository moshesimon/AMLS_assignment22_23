{
 "cells": [
  {
   "cell_type": "code",
   "execution_count": 21,
   "metadata": {},
   "outputs": [],
   "source": [
    "from __future__ import absolute_import, division, print_function\n",
    "\n",
    "import tensorflow as tf\n",
    "import numpy as np\n",
    "import os\n",
    "import cv2\n",
    "from keras.utils import image_utils\n",
    "import pandas as pd\n",
    "from tensorflow.keras import Model, layers\n",
    "\n",
    "# PATH TO ALL IMAGES\n",
    "global basedir, image_paths, target_size\n",
    "basedir = os.path.join(os.path.dirname(os.path.abspath('')),'Datasets')\n",
    "images_dir = os.path.join(basedir,'cartoon_set')\n",
    "test_images_dir = os.path.join(basedir,'cartoon_set_test')\n",
    "labels_filename = 'labels.csv'"
   ]
  },
  {
   "cell_type": "code",
   "execution_count": 22,
   "metadata": {},
   "outputs": [],
   "source": [
    "# MNIST dataset parameters.\n",
    "num_classes = 5 # total classes (0-9 digits).\n",
    "\n",
    "# Training parameters.\n",
    "learning_rate = 0.001\n",
    "training_steps = 800\n",
    "batch_size = 98\n",
    "display_step = 10\n",
    "\n",
    "# Network parameters.\n",
    "conv1_filters = 32 # number of filters for 1st conv layer.\n",
    "conv2_filters = 64 # number of filters for 2nd conv layer.\n",
    "fc1_units = 1024 # number of neurons for 1st fully-connected layer."
   ]
  },
  {
   "cell_type": "code",
   "execution_count": 23,
   "metadata": {},
   "outputs": [],
   "source": [
    "def run_dlib_shape(image):\n",
    "    # in this function we load the image, detect the landmarks of the face, and then return the image and the landmarks\n",
    "    # load the input image, resize it, and convert it to grayscale\n",
    "    resized_image = image.astype('uint8')\n",
    "\n",
    "    gray = cv2.cvtColor(resized_image, cv2.COLOR_BGR2GRAY)\n",
    "    gray = gray.astype('uint8')\n",
    "\n",
    "    return resized_image\n",
    "\n",
    "def extract_features_labels(test = False):\n",
    "    \"\"\"\n",
    "    This funtion extracts the landmarks features for all images in the folder 'dataset/celeba'.\n",
    "    It also extract the gender label for each image.\n",
    "    :return:\n",
    "        landmark_features:  an array containing 68 landmark points for each image in which a face was detected\n",
    "        gender_labels:      an array containing the gender label (male=0 and female=1) for each image in\n",
    "                            which a face was detected\n",
    "    \"\"\"\n",
    "    if test:\n",
    "        print(\"Getting test images\")\n",
    "        labels_df = pd.read_csv(os.path.join(test_images_dir, labels_filename), sep='\\t')\n",
    "        image_paths = [os.path.join(test_images_dir, \"img\", img_name) for img_name in labels_df['file_name'].values]\n",
    "    else:\n",
    "        print(\"Getting train images\")\n",
    "        labels_df = pd.read_csv(os.path.join(images_dir, labels_filename), sep='\\t')\n",
    "        image_paths = [os.path.join(images_dir, \"img\", img_name) for img_name in labels_df['file_name'].values]\n",
    "\n",
    "    face_shape_labels = labels_df['face_shape'].values\n",
    "    if os.path.isdir(images_dir):\n",
    "        all_features = []\n",
    "        all_labels = []\n",
    "        for i, img_path in enumerate(image_paths):\n",
    "            # load image\n",
    "            if i < 501:\n",
    "                img = image_utils.img_to_array(\n",
    "                    image_utils.load_img(img_path,\n",
    "                                target_size=None,\n",
    "                                interpolation='bicubic'))\n",
    "                resized_image = img.astype('uint8')\n",
    "                gray = cv2.cvtColor(resized_image, cv2.COLOR_BGR2GRAY)\n",
    "                gray = gray.astype('uint8')\n",
    "                all_features.append(gray)\n",
    "                all_labels.append(face_shape_labels[i])\n",
    "\n",
    "    features = np.array(all_features)\n",
    "    labels = np.array(all_labels)\n",
    "    return features, labels"
   ]
  },
  {
   "cell_type": "code",
   "execution_count": 24,
   "metadata": {},
   "outputs": [],
   "source": [
    "def get_training_data():\n",
    "    X, Y = extract_features_labels()\n",
    "    return X, Y\n",
    "\n",
    "def get_testing_data():\n",
    "    X, Y = extract_features_labels(test=True)\n",
    "    return X, Y"
   ]
  },
  {
   "cell_type": "code",
   "execution_count": 25,
   "metadata": {},
   "outputs": [
    {
     "name": "stdout",
     "output_type": "stream",
     "text": [
      "Getting train images\n",
      "Getting test images\n"
     ]
    }
   ],
   "source": [
    "x_train, y_train = get_training_data()\n",
    "x_test, y_test = get_testing_data()\n",
    "\n",
    "x_train, x_test = np.array(x_train, np.float32), np.array(x_test, np.float32)\n",
    "# Normalize images value from [0, 255] to [0, 1].\n",
    "x_train, x_test = x_train / 255., x_test / 255."
   ]
  },
  {
   "cell_type": "code",
   "execution_count": 26,
   "metadata": {},
   "outputs": [],
   "source": [
    "# Use tf.data API to shuffle and batch data.\n",
    "train_data = tf.data.Dataset.from_tensor_slices((x_train, y_train))\n",
    "train_data = train_data.repeat().shuffle(5000).batch(batch_size).prefetch(1)"
   ]
  },
  {
   "cell_type": "code",
   "execution_count": 27,
   "metadata": {},
   "outputs": [],
   "source": [
    "# Create TF Model.\n",
    "class ConvNet(Model):\n",
    "    # Set layers.\n",
    "    def __init__(self):\n",
    "        super(ConvNet, self).__init__()\n",
    "        # Convolution Layer with 32 filters and a kernel size of 5.\n",
    "        self.conv1 = layers.Conv2D(32, kernel_size=5, activation=tf.nn.relu)\n",
    "        # Max Pooling (down-sampling) with kernel size of 2 and strides of 2. \n",
    "        self.maxpool1 = layers.MaxPool2D(2, strides=2)\n",
    "\n",
    "        # Convolution Layer with 64 filters and a kernel size of 3.\n",
    "        self.conv2 = layers.Conv2D(64, kernel_size=3, activation=tf.nn.relu)\n",
    "        # Max Pooling (down-sampling) with kernel size of 2 and strides of 2. \n",
    "        self.maxpool2 = layers.MaxPool2D(2, strides=2)\n",
    "\n",
    "        # Flatten the data to a 1-D vector for the fully connected layer.\n",
    "        self.flatten = layers.Flatten()\n",
    "\n",
    "        # Fully connected layer.\n",
    "        self.fc1 = layers.Dense(1024)\n",
    "        # Apply Dropout (if is_training is False, dropout is not applied).\n",
    "        self.dropout = layers.Dropout(rate=0.5)\n",
    "\n",
    "        # Output layer, class prediction.\n",
    "        self.out = layers.Dense(num_classes)\n",
    "\n",
    "    # Set forward pass.\n",
    "    def call(self, x, is_training=False):\n",
    "        x = tf.reshape(x, [-1, 28, 28, 1])\n",
    "        x = self.conv1(x)\n",
    "        x = self.maxpool1(x)\n",
    "        x = self.conv2(x)\n",
    "        x = self.maxpool2(x)\n",
    "        x = self.flatten(x)\n",
    "        x = self.fc1(x)\n",
    "        x = self.dropout(x, training=is_training)\n",
    "        x = self.out(x)\n",
    "        if not is_training:\n",
    "            # tf cross entropy expect logits without softmax, so only\n",
    "            # apply softmax when not training.\n",
    "            x = tf.nn.softmax(x)\n",
    "        return x\n",
    "\n",
    "# Build neural network model.\n",
    "conv_net = ConvNet()"
   ]
  },
  {
   "cell_type": "code",
   "execution_count": 28,
   "metadata": {},
   "outputs": [],
   "source": [
    "# Cross-Entropy Loss.\n",
    "# Note that this will apply 'softmax' to the logits.\n",
    "def cross_entropy_loss(x, y):\n",
    "    # Convert labels to int 64 for tf cross-entropy function.\n",
    "    y = tf.cast(y, tf.int64)\n",
    "    # Apply softmax to logits and compute cross-entropy.\n",
    "    loss = tf.nn.sparse_softmax_cross_entropy_with_logits(labels=y, logits=x)\n",
    "    # Average loss across the batch.\n",
    "    return tf.reduce_mean(loss)\n",
    "\n",
    "# Accuracy metric.\n",
    "def accuracy(y_pred, y_true):\n",
    "    # Predicted class is the index of highest score in prediction vector (i.e. argmax).\n",
    "    correct_prediction = tf.equal(tf.argmax(y_pred, 1), tf.cast(y_true, tf.int64))\n",
    "    return tf.reduce_mean(tf.cast(correct_prediction, tf.float32), axis=-1)\n",
    "\n",
    "# Stochastic gradient descent optimizer.\n",
    "optimizer = tf.optimizers.Adam(learning_rate)"
   ]
  },
  {
   "cell_type": "code",
   "execution_count": 29,
   "metadata": {},
   "outputs": [],
   "source": [
    "# Optimization process. \n",
    "def run_optimization(x, y):\n",
    "    # Wrap computation inside a GradientTape for automatic differentiation.\n",
    "    with tf.GradientTape() as g:\n",
    "        # Forward pass.\n",
    "        pred = conv_net(x, is_training=True)\n",
    "        # Compute loss.\n",
    "        loss = cross_entropy_loss(pred, y)\n",
    "        \n",
    "    # Variables to update, i.e. trainable variables.\n",
    "    trainable_variables = conv_net.trainable_variables\n",
    "\n",
    "    # Compute gradients.\n",
    "    gradients = g.gradient(loss, trainable_variables)\n",
    "    \n",
    "    # Update W and b following gradients.\n",
    "    optimizer.apply_gradients(zip(gradients, trainable_variables))"
   ]
  },
  {
   "cell_type": "code",
   "execution_count": 32,
   "metadata": {},
   "outputs": [
    {
     "name": "stdout",
     "output_type": "stream",
     "text": [
      "(98, 500, 500)\n",
      "(98,)\n"
     ]
    },
    {
     "ename": "ValueError",
     "evalue": "`labels.shape` must equal `logits.shape` except for the last dimension. Received: labels.shape=(98,) and logits.shape=(31250, 5)",
     "output_type": "error",
     "traceback": [
      "\u001b[1;31m---------------------------------------------------------------------------\u001b[0m",
      "\u001b[1;31mValueError\u001b[0m                                Traceback (most recent call last)",
      "Cell \u001b[1;32mIn[32], line 6\u001b[0m\n\u001b[0;32m      4\u001b[0m \u001b[39mprint\u001b[39m(batch_y\u001b[39m.\u001b[39mshape)\n\u001b[0;32m      5\u001b[0m \u001b[39m# Run the optimization to update W and b values.\u001b[39;00m\n\u001b[1;32m----> 6\u001b[0m run_optimization(batch_x, batch_y)\n\u001b[0;32m      7\u001b[0m \u001b[39mprint\u001b[39m(step)\n\u001b[0;32m      8\u001b[0m \u001b[39mif\u001b[39;00m step \u001b[39m%\u001b[39m display_step \u001b[39m==\u001b[39m \u001b[39m0\u001b[39m:\n",
      "Cell \u001b[1;32mIn[29], line 8\u001b[0m, in \u001b[0;36mrun_optimization\u001b[1;34m(x, y)\u001b[0m\n\u001b[0;32m      6\u001b[0m     pred \u001b[39m=\u001b[39m conv_net(x, is_training\u001b[39m=\u001b[39m\u001b[39mTrue\u001b[39;00m)\n\u001b[0;32m      7\u001b[0m     \u001b[39m# Compute loss.\u001b[39;00m\n\u001b[1;32m----> 8\u001b[0m     loss \u001b[39m=\u001b[39m cross_entropy_loss(pred, y)\n\u001b[0;32m     10\u001b[0m \u001b[39m# Variables to update, i.e. trainable variables.\u001b[39;00m\n\u001b[0;32m     11\u001b[0m trainable_variables \u001b[39m=\u001b[39m conv_net\u001b[39m.\u001b[39mtrainable_variables\n",
      "Cell \u001b[1;32mIn[28], line 7\u001b[0m, in \u001b[0;36mcross_entropy_loss\u001b[1;34m(x, y)\u001b[0m\n\u001b[0;32m      5\u001b[0m y \u001b[39m=\u001b[39m tf\u001b[39m.\u001b[39mcast(y, tf\u001b[39m.\u001b[39mint64)\n\u001b[0;32m      6\u001b[0m \u001b[39m# Apply softmax to logits and compute cross-entropy.\u001b[39;00m\n\u001b[1;32m----> 7\u001b[0m loss \u001b[39m=\u001b[39m tf\u001b[39m.\u001b[39;49mnn\u001b[39m.\u001b[39;49msparse_softmax_cross_entropy_with_logits(labels\u001b[39m=\u001b[39;49my, logits\u001b[39m=\u001b[39;49mx)\n\u001b[0;32m      8\u001b[0m \u001b[39m# Average loss across the batch.\u001b[39;00m\n\u001b[0;32m      9\u001b[0m \u001b[39mreturn\u001b[39;00m tf\u001b[39m.\u001b[39mreduce_mean(loss)\n",
      "File \u001b[1;32mc:\\Users\\moshe\\anaconda3\\envs\\AML\\lib\\site-packages\\tensorflow\\python\\util\\traceback_utils.py:153\u001b[0m, in \u001b[0;36mfilter_traceback.<locals>.error_handler\u001b[1;34m(*args, **kwargs)\u001b[0m\n\u001b[0;32m    151\u001b[0m \u001b[39mexcept\u001b[39;00m \u001b[39mException\u001b[39;00m \u001b[39mas\u001b[39;00m e:\n\u001b[0;32m    152\u001b[0m   filtered_tb \u001b[39m=\u001b[39m _process_traceback_frames(e\u001b[39m.\u001b[39m__traceback__)\n\u001b[1;32m--> 153\u001b[0m   \u001b[39mraise\u001b[39;00m e\u001b[39m.\u001b[39mwith_traceback(filtered_tb) \u001b[39mfrom\u001b[39;00m \u001b[39mNone\u001b[39m\n\u001b[0;32m    154\u001b[0m \u001b[39mfinally\u001b[39;00m:\n\u001b[0;32m    155\u001b[0m   \u001b[39mdel\u001b[39;00m filtered_tb\n",
      "File \u001b[1;32mc:\\Users\\moshe\\anaconda3\\envs\\AML\\lib\\site-packages\\tensorflow\\python\\ops\\nn_ops.py:4368\u001b[0m, in \u001b[0;36msparse_softmax_cross_entropy_with_logits\u001b[1;34m(_sentinel, labels, logits, name)\u001b[0m\n\u001b[0;32m   4361\u001b[0m   \u001b[39mraise\u001b[39;00m \u001b[39mValueError\u001b[39;00m(\n\u001b[0;32m   4362\u001b[0m       \u001b[39m\"\u001b[39m\u001b[39m`labels.shape.rank` must equal `logits.shape.rank - 1`. \u001b[39m\u001b[39m\"\u001b[39m\n\u001b[0;32m   4363\u001b[0m       \u001b[39mf\u001b[39m\u001b[39m\"\u001b[39m\u001b[39mReceived: labels.shape=\u001b[39m\u001b[39m{\u001b[39;00mlabels_static_shape\u001b[39m}\u001b[39;00m\u001b[39m of rank \u001b[39m\u001b[39m\"\u001b[39m\n\u001b[0;32m   4364\u001b[0m       \u001b[39mf\u001b[39m\u001b[39m\"\u001b[39m\u001b[39m{\u001b[39;00mlabels_static_shape\u001b[39m.\u001b[39mrank\u001b[39m}\u001b[39;00m\u001b[39m and logits.shape=\u001b[39m\u001b[39m{\u001b[39;00mlogits\u001b[39m.\u001b[39mget_shape()\u001b[39m}\u001b[39;00m\u001b[39m \u001b[39m\u001b[39m\"\u001b[39m\n\u001b[0;32m   4365\u001b[0m       \u001b[39mf\u001b[39m\u001b[39m\"\u001b[39m\u001b[39mof rank \u001b[39m\u001b[39m{\u001b[39;00mlogits\u001b[39m.\u001b[39mget_shape()\u001b[39m.\u001b[39mrank\u001b[39m}\u001b[39;00m\u001b[39m\"\u001b[39m)\n\u001b[0;32m   4366\u001b[0m \u001b[39mif\u001b[39;00m (static_shapes_fully_defined \u001b[39mand\u001b[39;00m\n\u001b[0;32m   4367\u001b[0m     labels_static_shape \u001b[39m!=\u001b[39m logits\u001b[39m.\u001b[39mget_shape()[:\u001b[39m-\u001b[39m\u001b[39m1\u001b[39m]):\n\u001b[1;32m-> 4368\u001b[0m   \u001b[39mraise\u001b[39;00m \u001b[39mValueError\u001b[39;00m(\n\u001b[0;32m   4369\u001b[0m       \u001b[39m\"\u001b[39m\u001b[39m`labels.shape` must equal `logits.shape` except for \u001b[39m\u001b[39m\"\u001b[39m\n\u001b[0;32m   4370\u001b[0m       \u001b[39mf\u001b[39m\u001b[39m\"\u001b[39m\u001b[39mthe last dimension. Received: labels.shape=\u001b[39m\u001b[39m{\u001b[39;00mlabels_static_shape\u001b[39m}\u001b[39;00m\u001b[39m \u001b[39m\u001b[39m\"\u001b[39m\n\u001b[0;32m   4371\u001b[0m       \u001b[39mf\u001b[39m\u001b[39m\"\u001b[39m\u001b[39mand logits.shape=\u001b[39m\u001b[39m{\u001b[39;00mlogits\u001b[39m.\u001b[39mget_shape()\u001b[39m}\u001b[39;00m\u001b[39m\"\u001b[39m)\n\u001b[0;32m   4372\u001b[0m \u001b[39m# Check if no reshapes are required.\u001b[39;00m\n\u001b[0;32m   4373\u001b[0m \u001b[39mif\u001b[39;00m logits\u001b[39m.\u001b[39mget_shape()\u001b[39m.\u001b[39mndims \u001b[39m==\u001b[39m \u001b[39m2\u001b[39m:\n",
      "\u001b[1;31mValueError\u001b[0m: `labels.shape` must equal `logits.shape` except for the last dimension. Received: labels.shape=(98,) and logits.shape=(31250, 5)"
     ]
    }
   ],
   "source": [
    "# Run training for the given number of steps.\n",
    "for step, (batch_x, batch_y) in enumerate(train_data.take(training_steps), 1):\n",
    "    print(batch_x.shape)\n",
    "    print(batch_y.shape)\n",
    "    # Run the optimization to update W and b values.\n",
    "    run_optimization(batch_x, batch_y)\n",
    "    print(step)\n",
    "    if step % display_step == 0:\n",
    "        pred = conv_net(batch_x)\n",
    "        loss = cross_entropy_loss(pred, batch_y)\n",
    "        acc = accuracy(pred, batch_y)\n",
    "        print(\"step: %i, loss: %f, accuracy: %f\" % (step, loss, acc))"
   ]
  }
 ],
 "metadata": {
  "kernelspec": {
   "display_name": "AML",
   "language": "python",
   "name": "python3"
  },
  "language_info": {
   "codemirror_mode": {
    "name": "ipython",
    "version": 3
   },
   "file_extension": ".py",
   "mimetype": "text/x-python",
   "name": "python",
   "nbconvert_exporter": "python",
   "pygments_lexer": "ipython3",
   "version": "3.9.15 | packaged by conda-forge | (main, Nov 22 2022, 08:41:22) [MSC v.1929 64 bit (AMD64)]"
  },
  "orig_nbformat": 4,
  "vscode": {
   "interpreter": {
    "hash": "2e69689cd1625636f0c1dfd315897165b04a4e2851d2ac68933d3dd1db0adbc4"
   }
  }
 },
 "nbformat": 4,
 "nbformat_minor": 2
}
