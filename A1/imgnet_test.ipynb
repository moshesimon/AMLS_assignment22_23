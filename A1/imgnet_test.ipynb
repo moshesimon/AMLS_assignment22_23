{
 "cells": [
  {
   "cell_type": "code",
   "execution_count": 10,
   "metadata": {},
   "outputs": [
    {
     "name": "stdout",
     "output_type": "stream",
     "text": [
      "Downloading data from https://storage.googleapis.com/tensorflow/keras-applications/vgg16/vgg16_weights_tf_dim_ordering_tf_kernels.h5\n",
      "553467096/553467096 [==============================] - 15s 0us/step\n",
      "Model: \"model\"\n",
      "_________________________________________________________________\n",
      " Layer (type)                Output Shape              Param #   \n",
      "=================================================================\n",
      " input_3 (InputLayer)        [(None, 224, 224, 3)]     0         \n",
      "                                                                 \n",
      " block1_conv1 (Conv2D)       (None, 224, 224, 64)      1792      \n",
      "                                                                 \n",
      " block1_conv2 (Conv2D)       (None, 224, 224, 64)      36928     \n",
      "                                                                 \n",
      " block1_pool (MaxPooling2D)  (None, 112, 112, 64)      0         \n",
      "                                                                 \n",
      " block2_conv1 (Conv2D)       (None, 112, 112, 128)     73856     \n",
      "                                                                 \n",
      " block2_conv2 (Conv2D)       (None, 112, 112, 128)     147584    \n",
      "                                                                 \n",
      " block2_pool (MaxPooling2D)  (None, 56, 56, 128)       0         \n",
      "                                                                 \n",
      " block3_conv1 (Conv2D)       (None, 56, 56, 256)       295168    \n",
      "                                                                 \n",
      " block3_conv2 (Conv2D)       (None, 56, 56, 256)       590080    \n",
      "                                                                 \n",
      " block3_conv3 (Conv2D)       (None, 56, 56, 256)       590080    \n",
      "                                                                 \n",
      " block3_pool (MaxPooling2D)  (None, 28, 28, 256)       0         \n",
      "                                                                 \n",
      " block4_conv1 (Conv2D)       (None, 28, 28, 512)       1180160   \n",
      "                                                                 \n",
      " block4_conv2 (Conv2D)       (None, 28, 28, 512)       2359808   \n",
      "                                                                 \n",
      " block4_conv3 (Conv2D)       (None, 28, 28, 512)       2359808   \n",
      "                                                                 \n",
      " block4_pool (MaxPooling2D)  (None, 14, 14, 512)       0         \n",
      "                                                                 \n",
      " block5_conv1 (Conv2D)       (None, 14, 14, 512)       2359808   \n",
      "                                                                 \n",
      " block5_conv2 (Conv2D)       (None, 14, 14, 512)       2359808   \n",
      "                                                                 \n",
      " block5_conv3 (Conv2D)       (None, 14, 14, 512)       2359808   \n",
      "                                                                 \n",
      " block5_pool (MaxPooling2D)  (None, 7, 7, 512)         0         \n",
      "                                                                 \n",
      " flatten (Flatten)           (None, 25088)             0         \n",
      "                                                                 \n",
      "=================================================================\n",
      "Total params: 14,714,688\n",
      "Trainable params: 14,714,688\n",
      "Non-trainable params: 0\n",
      "_________________________________________________________________\n"
     ]
    }
   ],
   "source": [
    "from keras.applications import VGG16\n",
    "from keras.preprocessing import image\n",
    "from keras.applications.vgg16 import preprocess_input\n",
    "import os\n",
    "import numpy as np\n",
    "from keras.preprocessing import image\n",
    "from keras.utils import image_utils\n",
    "import cv2\n",
    "import dlib\n",
    "import matplotlib.pyplot as plt\n",
    "from sklearn import svm, datasets\n",
    "from sklearn.svm import SVC\n",
    "from sklearn.model_selection import train_test_split\n",
    "from sklearn.utils import shuffle\n",
    "from sklearn.metrics import classification_report,accuracy_score,confusion_matrix\n",
    "import pandas as pd\n",
    "from sklearn.datasets import load_iris\n",
    "from sklearn.linear_model import LogisticRegression\n",
    "from sklearn.model_selection import cross_val_score\n",
    "# import Model\n",
    "from keras.models import Model\n",
    "\n",
    "global basedir, image_paths, target_size\n",
    "basedir = os.path.dirname(os.path.abspath(''))\n",
    "dataset_dir = os.path.join(basedir,'Datasets')\n",
    "images_dir = os.path.join(dataset_dir,'celeba')\n",
    "test_images_dir = os.path.join(dataset_dir,'celeba_test')\n",
    "predictor_dir = os.path.join(basedir,'shape_predictor_68_face_landmarks.dat')\n",
    "labels_filename = 'labels.csv'\n",
    "\n",
    "base_model = VGG16(weights='imagenet')\n",
    "model = Model(inputs=base_model.input,      \n",
    "outputs=base_model.get_layer('flatten').output)\n",
    "model.summary()"
   ]
  },
  {
   "cell_type": "code",
   "execution_count": 15,
   "metadata": {},
   "outputs": [
    {
     "name": "stdout",
     "output_type": "stream",
     "text": [
      "(224, 224, 3)\n",
      "1/1 [==============================] - 0s 255ms/step\n",
      "(1, 25088)\n"
     ]
    }
   ],
   "source": [
    "def get_features():\n",
    "    img_path = os.path.join(images_dir,'img','1.jpg')\n",
    "    x = image_utils.img_to_array(\n",
    "                image_utils.load_img(img_path,\n",
    "                                target_size=(224,224),\n",
    "                                interpolation='bicubic'))\n",
    "    print(x.shape)\n",
    "    x = np.expand_dims(x, axis=0)\n",
    "    x = preprocess_input(x)\n",
    "    flatten = model.predict(x)\n",
    "    return list(flatten[0])\n",
    "\n",
    "features, labels = [], []\n",
    "\n",
    "# Loop into the directory of images and extract features and labels\n",
    "features.append(get_features())\n",
    "features = np.array(features)\n",
    "labels.append(\"#some label\")\n",
    "print(features.shape)"
   ]
  },
  {
   "cell_type": "code",
   "execution_count": 9,
   "metadata": {},
   "outputs": [
    {
     "name": "stdout",
     "output_type": "stream",
     "text": [
      "(224, 224, 3)\n",
      "1/1 [==============================] - 2s 2s/step\n",
      "(1, 7, 7, 512)\n"
     ]
    }
   ],
   "source": [
    "img_path = os.path.join(images_dir,'img','1.jpg')\n",
    "x = image_utils.img_to_array(\n",
    "            image_utils.load_img(img_path,\n",
    "                            target_size=(224,224),\n",
    "                            interpolation='bicubic'))\n",
    "print(x.shape)\n",
    "x = np.expand_dims(x, axis=0)\n",
    "x = preprocess_input(x)\n",
    "\n",
    "# Extract features\n",
    "features = model.predict(x)\n",
    "print(features.shape)"
   ]
  },
  {
   "cell_type": "code",
   "execution_count": 8,
   "metadata": {},
   "outputs": [
    {
     "name": "stdout",
     "output_type": "stream",
     "text": [
      "(15360,)\n"
     ]
    }
   ],
   "source": [
    "features = features.reshape(1,)\n",
    "\n",
    "features = features.flatten()\n",
    "print(features.shape)"
   ]
  },
  {
   "cell_type": "code",
   "execution_count": null,
   "metadata": {},
   "outputs": [],
   "source": [
    "print(\"Getting train images\")\n",
    "labels_df = pd.read_csv(os.path.join(images_dir, labels_filename), sep='\\t')\n",
    "image_paths = [os.path.join(images_dir, \"img\", img_name) for img_name in labels_df['img_name'].values]\n",
    "all_features = np.array([])\n",
    "all_labels = np.array([])\n",
    "\n",
    "gender_labels = labels_df['gender'].values\n",
    "if os.path.isdir(images_dir):\n",
    "    \n",
    "    for i, img_path in enumerate(image_paths):\n",
    "        # load image\n",
    "        x = image_utils.img_to_array(\n",
    "            image_utils.load_img(img_path,\n",
    "                            target_size=None,\n",
    "                            interpolation='bicubic'))\n",
    "\n",
    "        x = np.expand_dims(x, axis=0)\n",
    "        x = preprocess_input(x)\n",
    "\n",
    "        # Extract features\n",
    "        features = model.predict(x)\n",
    "        if features is not None:\n",
    "            all_features.append(features)\n",
    "            all_labels.append(gender_labels[i])"
   ]
  }
 ],
 "metadata": {
  "kernelspec": {
   "display_name": "AML",
   "language": "python",
   "name": "python3"
  },
  "language_info": {
   "codemirror_mode": {
    "name": "ipython",
    "version": 3
   },
   "file_extension": ".py",
   "mimetype": "text/x-python",
   "name": "python",
   "nbconvert_exporter": "python",
   "pygments_lexer": "ipython3",
   "version": "3.9.15"
  },
  "orig_nbformat": 4,
  "vscode": {
   "interpreter": {
    "hash": "2e69689cd1625636f0c1dfd315897165b04a4e2851d2ac68933d3dd1db0adbc4"
   }
  }
 },
 "nbformat": 4,
 "nbformat_minor": 2
}
